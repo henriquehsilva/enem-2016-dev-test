{
 "cells": [
  {
   "cell_type": "code",
   "execution_count": 2,
   "metadata": {},
   "outputs": [],
   "source": [
    "import pandas as pd"
   ]
  },
  {
   "cell_type": "code",
   "execution_count": 8,
   "metadata": {},
   "outputs": [
    {
     "data": {
      "text/html": "<div>\n<style scoped>\n    .dataframe tbody tr th:only-of-type {\n        vertical-align: middle;\n    }\n\n    .dataframe tbody tr th {\n        vertical-align: top;\n    }\n\n    .dataframe thead th {\n        text-align: right;\n    }\n</style>\n<table border=\"1\" class=\"dataframe\">\n  <thead>\n    <tr style=\"text-align: right;\">\n      <th></th>\n      <th>Unnamed: 0</th>\n      <th>NU_INSCRICAO</th>\n      <th>NU_ANO</th>\n      <th>CO_MUNICIPIO_RESIDENCIA</th>\n      <th>NO_MUNICIPIO_RESIDENCIA</th>\n      <th>CO_UF_RESIDENCIA</th>\n      <th>SG_UF_RESIDENCIA</th>\n      <th>NU_IDADE</th>\n      <th>TP_SEXO</th>\n      <th>TP_ESTADO_CIVIL</th>\n      <th>...</th>\n      <th>Q041</th>\n      <th>Q042</th>\n      <th>Q043</th>\n      <th>Q044</th>\n      <th>Q045</th>\n      <th>Q046</th>\n      <th>Q047</th>\n      <th>Q048</th>\n      <th>Q049</th>\n      <th>Q050</th>\n    </tr>\n  </thead>\n  <tbody>\n    <tr>\n      <th>0</th>\n      <td>1</td>\n      <td>ed50e8aaa58e7a806c337585efee9ca41f1eb1ad</td>\n      <td>2016</td>\n      <td>4314902</td>\n      <td>Porto Alegre</td>\n      <td>43</td>\n      <td>RS</td>\n      <td>24</td>\n      <td>M</td>\n      <td>0.0</td>\n      <td>...</td>\n      <td>5.0</td>\n      <td>A</td>\n      <td>A</td>\n      <td>A</td>\n      <td>A</td>\n      <td>A</td>\n      <td>A</td>\n      <td>A</td>\n      <td>B</td>\n      <td>D</td>\n    </tr>\n    <tr>\n      <th>1</th>\n      <td>2</td>\n      <td>2c3acac4b33ec2b195d77e7c04a2d75727fad723</td>\n      <td>2016</td>\n      <td>2304707</td>\n      <td>Granja</td>\n      <td>23</td>\n      <td>CE</td>\n      <td>17</td>\n      <td>F</td>\n      <td>0.0</td>\n      <td>...</td>\n      <td>NaN</td>\n      <td>A</td>\n      <td>A</td>\n      <td>C</td>\n      <td>A</td>\n      <td>B</td>\n      <td>A</td>\n      <td>A</td>\n      <td>C</td>\n      <td>A</td>\n    </tr>\n    <tr>\n      <th>2</th>\n      <td>3</td>\n      <td>f4545f8ccb9ff5c8aad7d32951b3f251a26e6568</td>\n      <td>2016</td>\n      <td>2304400</td>\n      <td>Fortaleza</td>\n      <td>23</td>\n      <td>CE</td>\n      <td>21</td>\n      <td>F</td>\n      <td>0.0</td>\n      <td>...</td>\n      <td>NaN</td>\n      <td>A</td>\n      <td>A</td>\n      <td>A</td>\n      <td>A</td>\n      <td>C</td>\n      <td>A</td>\n      <td>A</td>\n      <td>B</td>\n      <td>A</td>\n    </tr>\n    <tr>\n      <th>3</th>\n      <td>4</td>\n      <td>3d6ec248fef899c414e77f82d5c6d2bffbeaf7fe</td>\n      <td>2016</td>\n      <td>3304557</td>\n      <td>Rio de Janeiro</td>\n      <td>33</td>\n      <td>RJ</td>\n      <td>25</td>\n      <td>F</td>\n      <td>0.0</td>\n      <td>...</td>\n      <td>5.0</td>\n      <td>C</td>\n      <td>A</td>\n      <td>A</td>\n      <td>A</td>\n      <td>A</td>\n      <td>D</td>\n      <td>A</td>\n      <td>A</td>\n      <td>A</td>\n    </tr>\n    <tr>\n      <th>4</th>\n      <td>5</td>\n      <td>bf896ac8d3ecadd6dba1dfbf50110afcbf5d3268</td>\n      <td>2016</td>\n      <td>1302603</td>\n      <td>Manaus</td>\n      <td>13</td>\n      <td>AM</td>\n      <td>28</td>\n      <td>M</td>\n      <td>0.0</td>\n      <td>...</td>\n      <td>NaN</td>\n      <td>A</td>\n      <td>A</td>\n      <td>A</td>\n      <td>A</td>\n      <td>A</td>\n      <td>A</td>\n      <td>A</td>\n      <td>A</td>\n      <td>A</td>\n    </tr>\n  </tbody>\n</table>\n<p>5 rows × 167 columns</p>\n</div>",
      "text/plain": "   Unnamed: 0                              NU_INSCRICAO  NU_ANO  \\\n0           1  ed50e8aaa58e7a806c337585efee9ca41f1eb1ad    2016   \n1           2  2c3acac4b33ec2b195d77e7c04a2d75727fad723    2016   \n2           3  f4545f8ccb9ff5c8aad7d32951b3f251a26e6568    2016   \n3           4  3d6ec248fef899c414e77f82d5c6d2bffbeaf7fe    2016   \n4           5  bf896ac8d3ecadd6dba1dfbf50110afcbf5d3268    2016   \n\n   CO_MUNICIPIO_RESIDENCIA NO_MUNICIPIO_RESIDENCIA  CO_UF_RESIDENCIA  \\\n0                  4314902            Porto Alegre                43   \n1                  2304707                  Granja                23   \n2                  2304400               Fortaleza                23   \n3                  3304557          Rio de Janeiro                33   \n4                  1302603                  Manaus                13   \n\n  SG_UF_RESIDENCIA  NU_IDADE TP_SEXO  TP_ESTADO_CIVIL  ...  Q041  Q042  Q043  \\\n0               RS        24       M              0.0  ...   5.0     A     A   \n1               CE        17       F              0.0  ...   NaN     A     A   \n2               CE        21       F              0.0  ...   NaN     A     A   \n3               RJ        25       F              0.0  ...   5.0     C     A   \n4               AM        28       M              0.0  ...   NaN     A     A   \n\n  Q044  Q045 Q046  Q047  Q048  Q049  Q050  \n0    A     A    A     A     A     B     D  \n1    C     A    B     A     A     C     A  \n2    A     A    C     A     A     B     A  \n3    A     A    A     D     A     A     A  \n4    A     A    A     A     A     A     A  \n\n[5 rows x 167 columns]"
     },
     "execution_count": 8,
     "metadata": {},
     "output_type": "execute_result"
    }
   ],
   "source": [
    "df_train = pd.read_csv('csv/train.csv')\n",
    "\n",
    "df_train.head()"
   ]
  },
  {
   "cell_type": "code",
   "execution_count": 9,
   "metadata": {},
   "outputs": [
    {
     "data": {
      "text/html": "<div>\n<style scoped>\n    .dataframe tbody tr th:only-of-type {\n        vertical-align: middle;\n    }\n\n    .dataframe tbody tr th {\n        vertical-align: top;\n    }\n\n    .dataframe thead th {\n        text-align: right;\n    }\n</style>\n<table border=\"1\" class=\"dataframe\">\n  <thead>\n    <tr style=\"text-align: right;\">\n      <th></th>\n      <th>NU_INSCRICAO</th>\n      <th>CO_UF_RESIDENCIA</th>\n      <th>SG_UF_RESIDENCIA</th>\n      <th>NU_IDADE</th>\n      <th>TP_SEXO</th>\n      <th>TP_COR_RACA</th>\n      <th>TP_NACIONALIDADE</th>\n      <th>TP_ST_CONCLUSAO</th>\n      <th>TP_ANO_CONCLUIU</th>\n      <th>TP_ESCOLA</th>\n      <th>...</th>\n      <th>NU_NOTA_COMP5</th>\n      <th>NU_NOTA_REDACAO</th>\n      <th>Q001</th>\n      <th>Q002</th>\n      <th>Q006</th>\n      <th>Q024</th>\n      <th>Q025</th>\n      <th>Q026</th>\n      <th>Q027</th>\n      <th>Q047</th>\n    </tr>\n  </thead>\n  <tbody>\n    <tr>\n      <th>0</th>\n      <td>73ff9fcc02f0a99919906c942c2e1a1042cdcf98</td>\n      <td>41</td>\n      <td>PR</td>\n      <td>22</td>\n      <td>F</td>\n      <td>3</td>\n      <td>1</td>\n      <td>1</td>\n      <td>5</td>\n      <td>1</td>\n      <td>...</td>\n      <td>40.0</td>\n      <td>420.0</td>\n      <td>B</td>\n      <td>A</td>\n      <td>C</td>\n      <td>A</td>\n      <td>A</td>\n      <td>C</td>\n      <td>C</td>\n      <td>A</td>\n    </tr>\n    <tr>\n      <th>1</th>\n      <td>71a95f9f1b91a82c65ad94abbdf9f54e6066f968</td>\n      <td>21</td>\n      <td>MA</td>\n      <td>26</td>\n      <td>F</td>\n      <td>3</td>\n      <td>1</td>\n      <td>1</td>\n      <td>8</td>\n      <td>1</td>\n      <td>...</td>\n      <td>100.0</td>\n      <td>580.0</td>\n      <td>E</td>\n      <td>B</td>\n      <td>C</td>\n      <td>B</td>\n      <td>B</td>\n      <td>B</td>\n      <td>F</td>\n      <td>A</td>\n    </tr>\n    <tr>\n      <th>2</th>\n      <td>b38a03232f43b11c9d0788abaf060f7366053b6d</td>\n      <td>23</td>\n      <td>CE</td>\n      <td>21</td>\n      <td>M</td>\n      <td>1</td>\n      <td>1</td>\n      <td>2</td>\n      <td>0</td>\n      <td>2</td>\n      <td>...</td>\n      <td>80.0</td>\n      <td>320.0</td>\n      <td>E</td>\n      <td>E</td>\n      <td>D</td>\n      <td>B</td>\n      <td>B</td>\n      <td>A</td>\n      <td>NaN</td>\n      <td>A</td>\n    </tr>\n    <tr>\n      <th>3</th>\n      <td>70b682d9a3636be23f6120fa9d6b164eb3c6002d</td>\n      <td>15</td>\n      <td>PA</td>\n      <td>27</td>\n      <td>F</td>\n      <td>3</td>\n      <td>1</td>\n      <td>1</td>\n      <td>8</td>\n      <td>1</td>\n      <td>...</td>\n      <td>NaN</td>\n      <td>NaN</td>\n      <td>H</td>\n      <td>E</td>\n      <td>G</td>\n      <td>B</td>\n      <td>B</td>\n      <td>A</td>\n      <td>NaN</td>\n      <td>A</td>\n    </tr>\n    <tr>\n      <th>4</th>\n      <td>715494628a50142ce8cb17191cfe6d0f3cae0934</td>\n      <td>41</td>\n      <td>PR</td>\n      <td>18</td>\n      <td>M</td>\n      <td>1</td>\n      <td>1</td>\n      <td>2</td>\n      <td>0</td>\n      <td>2</td>\n      <td>...</td>\n      <td>0.0</td>\n      <td>320.0</td>\n      <td>D</td>\n      <td>H</td>\n      <td>H</td>\n      <td>C</td>\n      <td>B</td>\n      <td>A</td>\n      <td>NaN</td>\n      <td>A</td>\n    </tr>\n  </tbody>\n</table>\n<p>5 rows × 47 columns</p>\n</div>",
      "text/plain": "                               NU_INSCRICAO  CO_UF_RESIDENCIA  \\\n0  73ff9fcc02f0a99919906c942c2e1a1042cdcf98                41   \n1  71a95f9f1b91a82c65ad94abbdf9f54e6066f968                21   \n2  b38a03232f43b11c9d0788abaf060f7366053b6d                23   \n3  70b682d9a3636be23f6120fa9d6b164eb3c6002d                15   \n4  715494628a50142ce8cb17191cfe6d0f3cae0934                41   \n\n  SG_UF_RESIDENCIA  NU_IDADE TP_SEXO  TP_COR_RACA  TP_NACIONALIDADE  \\\n0               PR        22       F            3                 1   \n1               MA        26       F            3                 1   \n2               CE        21       M            1                 1   \n3               PA        27       F            3                 1   \n4               PR        18       M            1                 1   \n\n   TP_ST_CONCLUSAO  TP_ANO_CONCLUIU  TP_ESCOLA  ...  NU_NOTA_COMP5  \\\n0                1                5          1  ...           40.0   \n1                1                8          1  ...          100.0   \n2                2                0          2  ...           80.0   \n3                1                8          1  ...            NaN   \n4                2                0          2  ...            0.0   \n\n   NU_NOTA_REDACAO  Q001  Q002  Q006  Q024  Q025  Q026  Q027  Q047  \n0            420.0     B     A     C     A     A     C     C     A  \n1            580.0     E     B     C     B     B     B     F     A  \n2            320.0     E     E     D     B     B     A   NaN     A  \n3              NaN     H     E     G     B     B     A   NaN     A  \n4            320.0     D     H     H     C     B     A   NaN     A  \n\n[5 rows x 47 columns]"
     },
     "execution_count": 9,
     "metadata": {},
     "output_type": "execute_result"
    }
   ],
   "source": [
    "test = pd.read_csv('csv/test.csv')\n",
    "\n",
    "test.head()"
   ]
  },
  {
   "cell_type": "code",
   "execution_count": null,
   "metadata": {},
   "outputs": [],
   "source": []
  }
 ],
 "metadata": {
  "kernelspec": {
   "display_name": "Python 3.8.1 64-bit",
   "language": "python",
   "name": "python38164bit2cc185cd12074a4ebc9093ddfe13394a"
  },
  "language_info": {
   "codemirror_mode": {
    "name": "ipython",
    "version": 3
   },
   "file_extension": ".py",
   "mimetype": "text/x-python",
   "name": "python",
   "nbconvert_exporter": "python",
   "pygments_lexer": "ipython3",
   "version": "3.8.1-final"
  }
 },
 "nbformat": 4,
 "nbformat_minor": 4
}